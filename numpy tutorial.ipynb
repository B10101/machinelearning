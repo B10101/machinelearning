{
 "cells": [
  {
   "cell_type": "markdown",
   "id": "295cd22b",
   "metadata": {},
   "source": [
    "# Numpy tutorial"
   ]
  },
  {
   "cell_type": "code",
   "execution_count": 2,
   "id": "a582c74c",
   "metadata": {},
   "outputs": [],
   "source": [
    "import numpy as np"
   ]
  },
  {
   "cell_type": "markdown",
   "id": "9b200f7d",
   "metadata": {},
   "source": [
    "## Creating arrays"
   ]
  },
  {
   "cell_type": "code",
   "execution_count": 14,
   "id": "f56ee35b",
   "metadata": {},
   "outputs": [
    {
     "name": "stdout",
     "output_type": "stream",
     "text": [
      "[12 23 45 67 89 75]\n"
     ]
    }
   ],
   "source": [
    "#single dimension array\n",
    "y = np.array([12,23,45,67,89,75])\n",
    "print(y)\n"
   ]
  },
  {
   "cell_type": "code",
   "execution_count": 15,
   "id": "2ff264e4",
   "metadata": {},
   "outputs": [
    {
     "name": "stdout",
     "output_type": "stream",
     "text": [
      "[[1 2 3 4 5]\n",
      " [6 7 8 9 0]]\n"
     ]
    }
   ],
   "source": [
    "#multiple dimension array\n",
    "z = np.array([[1,2,3,4,5],[6,7,8,9,0]])\n",
    "print(z)"
   ]
  },
  {
   "cell_type": "markdown",
   "id": "03837e3a",
   "metadata": {},
   "source": [
    "## getting properties of arrays\n"
   ]
  },
  {
   "cell_type": "code",
   "execution_count": 12,
   "id": "39e4c112",
   "metadata": {},
   "outputs": [
    {
     "name": "stdout",
     "output_type": "stream",
     "text": [
      "1\n"
     ]
    }
   ],
   "source": [
    "#getting dimension\n",
    "print(y.ndim)\n",
    "\n"
   ]
  },
  {
   "cell_type": "code",
   "execution_count": 13,
   "id": "7acd2c1e",
   "metadata": {},
   "outputs": [
    {
     "name": "stdout",
     "output_type": "stream",
     "text": [
      "(2, 5)\n"
     ]
    }
   ],
   "source": [
    "#getting shape\n",
    "print(z.shape)"
   ]
  },
  {
   "cell_type": "code",
   "execution_count": 11,
   "id": "45246a5f",
   "metadata": {},
   "outputs": [
    {
     "name": "stdout",
     "output_type": "stream",
     "text": [
      "int32\n"
     ]
    }
   ],
   "source": [
    "#getting data type\n",
    "print(z.dtype)"
   ]
  },
  {
   "cell_type": "markdown",
   "id": "415b97b1",
   "metadata": {},
   "source": [
    "## Accessing/changing things in array"
   ]
  },
  {
   "cell_type": "code",
   "execution_count": 16,
   "id": "9a22cbfa",
   "metadata": {},
   "outputs": [
    {
     "data": {
      "text/plain": [
       "13"
      ]
     },
     "execution_count": 16,
     "metadata": {},
     "output_type": "execute_result"
    }
   ],
   "source": [
    "rel = np.array([[1,2,3,4,5,6,7],[8,9,10,11,12,13,14]])\n",
    "#getting a specific element\n",
    "rel[1,5]"
   ]
  },
  {
   "cell_type": "code",
   "execution_count": 18,
   "id": "29717081",
   "metadata": {},
   "outputs": [
    {
     "data": {
      "text/plain": [
       "array([1, 2, 3, 4, 5, 6, 7])"
      ]
     },
     "execution_count": 18,
     "metadata": {},
     "output_type": "execute_result"
    }
   ],
   "source": [
    "#get a specific row\n",
    "rel[0, :]"
   ]
  },
  {
   "cell_type": "code",
   "execution_count": 21,
   "id": "f93c661a",
   "metadata": {},
   "outputs": [
    {
     "data": {
      "text/plain": [
       "array([ 3, 10])"
      ]
     },
     "execution_count": 21,
     "metadata": {},
     "output_type": "execute_result"
    }
   ],
   "source": [
    "#get a specific collumn\n",
    "rel[ :,2]"
   ]
  },
  {
   "cell_type": "markdown",
   "id": "9e8aef45",
   "metadata": {},
   "source": [
    "## Other ways of creating an array"
   ]
  },
  {
   "cell_type": "code",
   "execution_count": 25,
   "id": "fb307818",
   "metadata": {},
   "outputs": [
    {
     "data": {
      "text/plain": [
       "array([[0., 0., 0., 0.],\n",
       "       [0., 0., 0., 0.],\n",
       "       [0., 0., 0., 0.]])"
      ]
     },
     "execution_count": 25,
     "metadata": {},
     "output_type": "execute_result"
    }
   ],
   "source": [
    "#All 0s array\n",
    "np.zeros((3,4))"
   ]
  },
  {
   "cell_type": "code",
   "execution_count": 27,
   "id": "3bf4c25d",
   "metadata": {},
   "outputs": [
    {
     "data": {
      "text/plain": [
       "array([[1, 1],\n",
       "       [1, 1]])"
      ]
     },
     "execution_count": 27,
     "metadata": {},
     "output_type": "execute_result"
    }
   ],
   "source": [
    "#All 1s array\n",
    "np.ones((2,2), dtype='int32')"
   ]
  },
  {
   "cell_type": "code",
   "execution_count": 28,
   "id": "3aabe0c4",
   "metadata": {},
   "outputs": [
    {
     "data": {
      "text/plain": [
       "array([[8, 8, 8],\n",
       "       [8, 8, 8]])"
      ]
     },
     "execution_count": 28,
     "metadata": {},
     "output_type": "execute_result"
    }
   ],
   "source": [
    "#other numbers\n",
    "np.full((2,3),8)"
   ]
  },
  {
   "cell_type": "code",
   "execution_count": 30,
   "id": "bd5631ed",
   "metadata": {},
   "outputs": [
    {
     "data": {
      "text/plain": [
       "array([[12, 12, 12, 12, 12],\n",
       "       [12, 12, 12, 12, 12]])"
      ]
     },
     "execution_count": 30,
     "metadata": {},
     "output_type": "execute_result"
    }
   ],
   "source": [
    "#using properties of another array for other numbers\n",
    "np.full_like(z,12)"
   ]
  },
  {
   "cell_type": "code",
   "execution_count": 32,
   "id": "650697dd",
   "metadata": {},
   "outputs": [
    {
     "data": {
      "text/plain": [
       "array([[0.03706224, 0.24918013, 0.01956194],\n",
       "       [0.2701309 , 0.87941109, 0.67742707]])"
      ]
     },
     "execution_count": 32,
     "metadata": {},
     "output_type": "execute_result"
    }
   ],
   "source": [
    "#random decimal numbers\n",
    "np.random.rand(2,3)"
   ]
  },
  {
   "cell_type": "code",
   "execution_count": 33,
   "id": "fade37be",
   "metadata": {},
   "outputs": [
    {
     "data": {
      "text/plain": [
       "array([[0.72409803, 0.20760225, 0.20940234, 0.658511  , 0.61223913],\n",
       "       [0.91801478, 0.76048466, 0.53155225, 0.28659926, 0.08483829]])"
      ]
     },
     "execution_count": 33,
     "metadata": {},
     "output_type": "execute_result"
    }
   ],
   "source": [
    "#random while copying a shape\n",
    "np.random.random_sample(z.shape)"
   ]
  },
  {
   "cell_type": "code",
   "execution_count": 34,
   "id": "865aad02",
   "metadata": {},
   "outputs": [
    {
     "data": {
      "text/plain": [
       "array([[ 4, 11,  6],\n",
       "       [12,  7, 12],\n",
       "       [ 5,  9,  5]])"
      ]
     },
     "execution_count": 34,
     "metadata": {},
     "output_type": "execute_result"
    }
   ],
   "source": [
    "#random integer values(.randint(limit value, size = (size)))\n",
    "np.random.randint(13, size = (3,3))"
   ]
  },
  {
   "cell_type": "code",
   "execution_count": 35,
   "id": "ac5f0502",
   "metadata": {},
   "outputs": [
    {
     "data": {
      "text/plain": [
       "array([[1., 0., 0., 0.],\n",
       "       [0., 1., 0., 0.],\n",
       "       [0., 0., 1., 0.],\n",
       "       [0., 0., 0., 1.]])"
      ]
     },
     "execution_count": 35,
     "metadata": {},
     "output_type": "execute_result"
    }
   ],
   "source": [
    "#Identity matrix (.identity(size))\n",
    "np.identity(4)"
   ]
  },
  {
   "cell_type": "code",
   "execution_count": null,
   "id": "da4ab889",
   "metadata": {},
   "outputs": [],
   "source": []
  }
 ],
 "metadata": {
  "kernelspec": {
   "display_name": "Python 3 (ipykernel)",
   "language": "python",
   "name": "python3"
  },
  "language_info": {
   "codemirror_mode": {
    "name": "ipython",
    "version": 3
   },
   "file_extension": ".py",
   "mimetype": "text/x-python",
   "name": "python",
   "nbconvert_exporter": "python",
   "pygments_lexer": "ipython3",
   "version": "3.10.9"
  }
 },
 "nbformat": 4,
 "nbformat_minor": 5
}
