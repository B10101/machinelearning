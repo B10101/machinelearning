{
 "cells": [
  {
   "cell_type": "markdown",
   "id": "316f3ca8",
   "metadata": {},
   "source": [
    "# Numpy tutorial"
   ]
  },
  {
   "cell_type": "code",
   "execution_count": 2,
   "id": "5c6778ff",
   "metadata": {},
   "outputs": [],
   "source": [
    "import numpy as np"
   ]
  },
  {
   "cell_type": "markdown",
   "id": "c303b409",
   "metadata": {},
   "source": [
    "## Creating arrays"
   ]
  },
  {
   "cell_type": "code",
   "execution_count": 14,
   "id": "2d0f0b29",
   "metadata": {},
   "outputs": [
    {
     "name": "stdout",
     "output_type": "stream",
     "text": [
      "[12 23 45 67 89 75]\n"
     ]
    }
   ],
   "source": [
    "#single dimension array\n",
    "y = np.array([12,23,45,67,89,75])\n",
    "print(y)\n"
   ]
  },
  {
   "cell_type": "code",
   "execution_count": 15,
   "id": "f9863fd7",
   "metadata": {},
   "outputs": [
    {
     "name": "stdout",
     "output_type": "stream",
     "text": [
      "[[1 2 3 4 5]\n",
      " [6 7 8 9 0]]\n"
     ]
    }
   ],
   "source": [
    "#multiple dimension array\n",
    "z = np.array([[1,2,3,4,5],[6,7,8,9,0]])\n",
    "print(z)"
   ]
  },
  {
   "cell_type": "markdown",
   "id": "5fda2236",
   "metadata": {},
   "source": [
    "## getting properties of arrays\n"
   ]
  },
  {
   "cell_type": "code",
   "execution_count": 12,
   "id": "297a03b3",
   "metadata": {},
   "outputs": [
    {
     "name": "stdout",
     "output_type": "stream",
     "text": [
      "1\n"
     ]
    }
   ],
   "source": [
    "#getting dimension\n",
    "print(y.ndim)\n",
    "\n"
   ]
  },
  {
   "cell_type": "code",
   "execution_count": 13,
   "id": "f09941f0",
   "metadata": {},
   "outputs": [
    {
     "name": "stdout",
     "output_type": "stream",
     "text": [
      "(2, 5)\n"
     ]
    }
   ],
   "source": [
    "#getting shape\n",
    "print(z.shape)"
   ]
  },
  {
   "cell_type": "code",
   "execution_count": 11,
   "id": "73c4fc00",
   "metadata": {},
   "outputs": [
    {
     "name": "stdout",
     "output_type": "stream",
     "text": [
      "int32\n"
     ]
    }
   ],
   "source": [
    "#getting data type\n",
    "print(z.dtype)"
   ]
  },
  {
   "cell_type": "markdown",
   "id": "6973db51",
   "metadata": {},
   "source": [
    "## Accessing/changing things in array"
   ]
  },
  {
   "cell_type": "code",
   "execution_count": 16,
   "id": "468fe295",
   "metadata": {},
   "outputs": [
    {
     "data": {
      "text/plain": [
       "13"
      ]
     },
     "execution_count": 16,
     "metadata": {},
     "output_type": "execute_result"
    }
   ],
   "source": [
    "rel = np.array([[1,2,3,4,5,6,7],[8,9,10,11,12,13,14]])\n",
    "#getting a specific element\n",
    "rel[1,5]"
   ]
  },
  {
   "cell_type": "code",
   "execution_count": 18,
   "id": "66564235",
   "metadata": {},
   "outputs": [
    {
     "data": {
      "text/plain": [
       "array([1, 2, 3, 4, 5, 6, 7])"
      ]
     },
     "execution_count": 18,
     "metadata": {},
     "output_type": "execute_result"
    }
   ],
   "source": [
    "#get a specific row\n",
    "rel[0, :]"
   ]
  },
  {
   "cell_type": "code",
   "execution_count": 21,
   "id": "e9bab0ae",
   "metadata": {},
   "outputs": [
    {
     "data": {
      "text/plain": [
       "array([ 3, 10])"
      ]
     },
     "execution_count": 21,
     "metadata": {},
     "output_type": "execute_result"
    }
   ],
   "source": [
    "#get a specific collumn\n",
    "rel[ :,2]"
   ]
  },
  {
   "cell_type": "code",
   "execution_count": null,
   "id": "5743a011",
   "metadata": {},
   "outputs": [],
   "source": []
  }
 ],
 "metadata": {
  "kernelspec": {
   "display_name": "Python 3 (ipykernel)",
   "language": "python",
   "name": "python3"
  },
  "language_info": {
   "codemirror_mode": {
    "name": "ipython",
    "version": 3
   },
   "file_extension": ".py",
   "mimetype": "text/x-python",
   "name": "python",
   "nbconvert_exporter": "python",
   "pygments_lexer": "ipython3",
   "version": "3.10.9"
  }
 },
 "nbformat": 4,
 "nbformat_minor": 5
}
